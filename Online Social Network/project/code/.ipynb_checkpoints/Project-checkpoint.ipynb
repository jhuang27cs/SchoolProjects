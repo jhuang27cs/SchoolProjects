{
 "cells": [
  {
   "cell_type": "code",
   "execution_count": 1,
   "metadata": {
    "collapsed": false
   },
   "outputs": [],
   "source": [
    "import os.path\n",
    "# don't run it , the path already exist after we build this\n",
    "os.makedirs('data/pos')\n",
    "os.makedirs('data/neg')"
   ]
  },
  {
   "cell_type": "code",
   "execution_count": 2,
   "metadata": {
    "collapsed": true
   },
   "outputs": [],
   "source": [
    "import pickle\n",
    "import io\n",
    "def write_to_file(typ, name, path, content):\n",
    "    completeName = os.path.join(path, typ+name +\".txt\")\n",
    "#     content = content.encode('ascii', 'ignore').decode('ascii')\n",
    "    file1 = io.open(completeName, \"w\", encoding='utf8')\n",
    "    file1.write(content)\n",
    "    file1.close()"
   ]
  },
  {
   "cell_type": "code",
   "execution_count": 3,
   "metadata": {
    "collapsed": false
   },
   "outputs": [
    {
     "name": "stdout",
     "output_type": "stream",
     "text": [
      "read 1000 positive reviews\n",
      "read 1000 negative reviews\n"
     ]
    }
   ],
   "source": [
    "import os\n",
    "import json\n",
    "# retrieve the positive reviews and negative 1000reviews from the Yelp dataset\n",
    "# to build the training set\n",
    "i = 0\n",
    "j = 0\n",
    "with open(\"yelp_academic_dataset.json\", 'r') as f:\n",
    "    for line in f.readlines():\n",
    "        business_json = json.loads(line)\n",
    "        if \"review_id\" in business_json:\n",
    "            if business_json[\"stars\"] > 3.5 and i < 1000:\n",
    "                write_to_file('pos', str(i), 'data/pos', business_json[\"text\"])\n",
    "                i += 1\n",
    "            elif business_json[\"stars\"] < 2.5 and j < 1000:\n",
    "                write_to_file('neg', str(j), 'data/neg', business_json[\"text\"])\n",
    "                j += 1\n",
    "        if i == 1000 and j == 1000:\n",
    "            break\n",
    "print(\"read %i positive reviews\\nread %i negative reviews\" % (i, j))"
   ]
  },
  {
   "cell_type": "code",
   "execution_count": 4,
   "metadata": {
    "collapsed": false
   },
   "outputs": [
    {
     "name": "stdout",
     "output_type": "stream",
     "text": [
      "subdirectories are:['neg', 'pos']\n"
     ]
    }
   ],
   "source": [
    "import os\n",
    "# Here is the path to the data directory.\n",
    "path = 'data'\n",
    "print('subdirectories are:' + str(os.listdir(path)))"
   ]
  },
  {
   "cell_type": "code",
   "execution_count": 5,
   "metadata": {
    "collapsed": true
   },
   "outputs": [],
   "source": [
    "def get_files(path):\n",
    "    \"\"\" Return a list of file names in this directory that end in .txt \n",
    "    The list should be sorted alphabetically by file name.\n",
    "    Params:\n",
    "        path....a directory containing .txt review files.\n",
    "    Returns:\n",
    "        a list of .txt file names, sorted alphabetically.\n",
    "    \"\"\"\n",
    "    return sorted([path + os.sep + file for file in os.listdir(path) if file.endswith(\".txt\")]);"
   ]
  },
  {
   "cell_type": "code",
   "execution_count": 6,
   "metadata": {
    "collapsed": false
   },
   "outputs": [
    {
     "name": "stdout",
     "output_type": "stream",
     "text": [
      "found 1000 positive and 1000 negative training files\n",
      "first positive file: data/pos/pos0.txt\n",
      "first negative file: data/neg/neg0.txt\n"
     ]
    }
   ],
   "source": [
    "pos_train_files = get_files(path + os.sep + 'pos')\n",
    "neg_train_files = get_files(path + os.sep + 'neg')\n",
    "all_train_files = pos_train_files + neg_train_files\n",
    "\n",
    "print('found %d positive and %d negative training files' %\n",
    "      (len(pos_train_files), len(neg_train_files)))\n",
    "print('first positive file: %s' % pos_train_files[0])\n",
    "print('first negative file: %s' % neg_train_files[0])\n"
   ]
  },
  {
   "cell_type": "code",
   "execution_count": 7,
   "metadata": {
    "collapsed": false
   },
   "outputs": [
    {
     "name": "stdout",
     "output_type": "stream",
     "text": [
      "first 3 and last 3 labels are: [1 1 1 0 0 0]\n"
     ]
    }
   ],
   "source": [
    "import numpy as np\n",
    "import re\n",
    "def get_true_labels(file_names):\n",
    "    \"\"\"Return a *numpy array* of ints for the true sentiment labels of each file.\n",
    "    1 means positive, 0 means negative. Use the name of the file to determine\n",
    "    the true label.\n",
    "    Params:\n",
    "        file_names....a list of .txt file paths, e.g., data/train/pos/10057_9.txt\n",
    "    Returns:\n",
    "        a numpy array of 1 or 0 values corresponding to each element\n",
    "        of file_names, where 1 indicates a positive review, and 0\n",
    "        indicates a negative review.\n",
    "    \"\"\"\n",
    "    def get_label(file):\n",
    "        if 'pos' in re.sub('\\W+',' ', file).split():\n",
    "            return 1\n",
    "        elif 'neg' in re.sub('\\W+',' ', file).split():\n",
    "            return 0\n",
    "    return np.array([get_label(file) for file in file_names])\n",
    "labels = get_true_labels(all_train_files)\n",
    "print('first 3 and last 3 labels are: %s' % str(labels[[1,2,3,-3,-2,-1]]))"
   ]
  },
  {
   "cell_type": "code",
   "execution_count": 8,
   "metadata": {
    "collapsed": false
   },
   "outputs": [
    {
     "data": {
      "text/plain": [
       "u\"We had a small dog with us so we were limited to places that had outdoor dining while at Stanford Shopping Center.  Babbo's caught our eye and we took a seat.  We had no particular expectations but all three of us were extremely pleased with our meals, mine was the Gorgonzola and pine nut pizza which was amazing.  Babbo himself even stopped by our table to chat indicating that his restaurant had been in business there for over 20 years. We'll definitely be back.\\n\""
      ]
     },
     "execution_count": 8,
     "metadata": {},
     "output_type": "execute_result"
    }
   ],
   "source": [
    "import io\n",
    "def file2string(filename):\n",
    "    return io.open(filename, encoding='utf8').readlines()[0]\n",
    "file2string(pos_train_files[10])"
   ]
  },
  {
   "cell_type": "code",
   "execution_count": 9,
   "metadata": {
    "collapsed": false
   },
   "outputs": [
    {
     "data": {
      "text/plain": [
       "['this',\n",
       " 'movie',\n",
       " 'is',\n",
       " 'not',\n",
       " 'not_good',\n",
       " 'not_.',\n",
       " 'in',\n",
       " 'fact',\n",
       " ',',\n",
       " 'it',\n",
       " 'is',\n",
       " 'not',\n",
       " 'not_even',\n",
       " 'not_really',\n",
       " 'a',\n",
       " 'movie',\n",
       " '.']"
      ]
     },
     "execution_count": 9,
     "metadata": {},
     "output_type": "execute_result"
    }
   ],
   "source": [
    "import re\n",
    "def tokenize_with_not(text):\n",
    "    \"\"\"\"Given a string, return a list of tokens such that: (1) all\n",
    "    tokens are lowercase, (2) all punctuation is kept as separate tokens.\n",
    "    Note that underscore (_) is not considered punctuation. (3)whenever the term 'not' appears, \n",
    "    change the two subsequent tokens to have the prefix 'not_' prior to the token. \n",
    "    See the example below. \n",
    "    Params:\n",
    "        text....a string\n",
    "    Returns:\n",
    "        a list of tokens\n",
    "    \"\"\"\n",
    "    if not text:\n",
    "        return []\n",
    "    text = text.lower()\n",
    "    tokens = []\n",
    "    tokens = re.findall(r\"[\\w]+|[^\\w\\s\\x85]\", text)\n",
    "    indices = [i for i, x in enumerate(tokens) if x == \"not\"]\n",
    "    j = []\n",
    "    i = 0\n",
    "    for token in tokens:\n",
    "        if i in indices:\n",
    "            j.append(i + 1)\n",
    "            j.append(i + 2)\n",
    "        if i in j:\n",
    "            tokens[i]=('not_'+token)\n",
    "        i += 1 \n",
    "    return tokens\n",
    "\n",
    "tokenize_with_not(\"This movie is not good. In fact, it is not even really a movie.\")"
   ]
  },
  {
   "cell_type": "code",
   "execution_count": 10,
   "metadata": {
    "collapsed": false
   },
   "outputs": [
    {
     "name": "stdout",
     "output_type": "stream",
     "text": [
      "matrix represents 2000 documents with 15505 features\n",
      "first doc has terms:\n",
      "[0, 6, 11, 13, 307, 671, 693, 745, 932, 1482, 1921, 2058, 2731, 2835, 2993, 3225, 3308, 3429, 3581, 3666, 3682, 4217, 4726, 4826, 4928, 5181, 5301, 5398, 5616, 5989, 6122, 6142, 6521, 6526, 6631, 6777, 6947, 7292, 7305, 7544, 7672, 7774, 7896, 8462, 9745, 9814, 10143, 10351, 10513, 10677, 11666, 11869, 12241, 12796, 12840, 13440, 13441, 13697, 13700, 13866, 13871, 13905, 13922, 13934, 14058, 14111, 14269, 14314, 14726, 14785, 15132, 15231]\n"
     ]
    }
   ],
   "source": [
    "from sklearn.feature_extraction.text import CountVectorizer\n",
    "\"\"\"As we already tested in the homework, tokenize_with_not results in slightly higher accuracy. \n",
    "So, we use that to do the vectorize.\n",
    "\"\"\"\n",
    "def do_vectorize(filenames, tokenizer_fn=tokenize_with_not, min_df=1,\n",
    "                 max_df=1., binary=True, ngram_range=(1,1)):\n",
    "    \"\"\"\n",
    "    Convert file into a sparse csr_matrix, where\n",
    "    each row is a file and each column represents a unique word.\n",
    "    Use sklearn's CountVectorizer: http://goo.gl/eJ2PJ5\n",
    "    Params:\n",
    "        filenames.......list of review file names\n",
    "        tokenizer_fn....the function used to tokenize each document\n",
    "        min_df..........remove terms from the vocabulary that don't appear\n",
    "                        in at least this many documents\n",
    "        max_df..........remove terms from the vocabulary that appear in more\n",
    "                        than this fraction of documents\n",
    "        binary..........If true, each documents is represented by a binary\n",
    "                        vector, where 1 means a term occurs at least once in \n",
    "                        the document. If false, the term frequency is used instead.\n",
    "        ngram_range.....A tuple (n,m) means to use phrases of length n to m inclusive.\n",
    "                        E.g., (1,2) means consider unigrams and bigrams.\n",
    "    Return:\n",
    "        A tuple (X, vec), where X is the csr_matrix of feature vectors,\n",
    "        and vec is the CountVectorizer object.\n",
    "    \"\"\"\n",
    "    ###TODO\n",
    "    ###\n",
    "    vec = CountVectorizer(input ='filename',tokenizer=tokenizer_fn, ngram_range=ngram_range,  max_df=max_df, min_df=min_df,binary = binary)\n",
    "    X = vec.fit_transform(filename for filename in filenames)\n",
    "    return (X,vec)\n",
    "matrix, vec = do_vectorize(all_train_files)\n",
    "print ('matrix represents %d documents with %d features' % (matrix.shape[0], matrix.shape[1]))\n",
    "print('first doc has terms:\\n%s' % (str(sorted(matrix[0].nonzero()[1]))))"
   ]
  },
  {
   "cell_type": "code",
   "execution_count": 11,
   "metadata": {
    "collapsed": false
   },
   "outputs": [
    {
     "name": "stdout",
     "output_type": "stream",
     "text": [
      "first shuffled document data/pos/pos204.txt has label 1 and terms: [0, 6, 7, 8, 11, 13, 745, 998, 1398, 2247, 2484, 2499, 2861, 3239, 3877, 4322, 4693, 4733, 4936, 4982, 5282, 5426, 5761, 6017, 6521, 6631, 6687, 6947, 6961, 7129, 7656, 8252, 8520, 9812, 9875, 9919, 10398, 10508, 10599, 11095, 11356, 11898, 12243, 12247, 12769, 13682, 13871, 13930, 14015, 14022, 14058, 14726, 15124]\n"
     ]
    }
   ],
   "source": [
    "import hashlib\n",
    "# DThis is to randomize the order of the documents, but\n",
    "# in a way that is consistent across platforms.\n",
    "# See: http://stackoverflow.com/a/18992474/1756896\n",
    "def repeatable_random(seed):\n",
    "    hash = str(seed)\n",
    "    while True:\n",
    "        hash = hashlib.md5(hash).digest()\n",
    "        for c in hash:\n",
    "            yield ord(c)\n",
    "\n",
    "def repeatable_shuffle(X, y, filenames):\n",
    "    r = repeatable_random(42) \n",
    "    indices = sorted(range(X.shape[0]), key=lambda x: next(r))\n",
    "    return X[indices], y[indices], np.array(filenames)[indices]\n",
    "\n",
    "X, y, filenames = repeatable_shuffle(matrix, labels, all_train_files)\n",
    "\n",
    "print('first shuffled document %s has label %d and terms: %s' % \n",
    "      (filenames[0], y[0], sorted(X[0].nonzero()[1])))"
   ]
  },
  {
   "cell_type": "code",
   "execution_count": 12,
   "metadata": {
    "collapsed": true
   },
   "outputs": [],
   "source": [
    "from sklearn.linear_model import LogisticRegression\n",
    "# Create a LogsticRegression object\n",
    "def get_clf():\n",
    "    return LogisticRegression(random_state=42)"
   ]
  },
  {
   "cell_type": "code",
   "execution_count": 13,
   "metadata": {
    "collapsed": false
   },
   "outputs": [
    {
     "name": "stdout",
     "output_type": "stream",
     "text": [
      "fold 0 accuracy=0.85\n",
      "fold 1 accuracy=0.82\n",
      "fold 2 accuracy=0.8425\n",
      "fold 3 accuracy=0.815\n",
      "fold 4 accuracy=0.84\n",
      "average cross validation accuracy=0.8335\n"
     ]
    }
   ],
   "source": [
    "from sklearn.cross_validation import KFold\n",
    "from sklearn.metrics import accuracy_score\n",
    "def do_cross_validation(X, y, n_folds=5, verbose=False):\n",
    "    \"\"\"\n",
    "    Perform n-fold cross validation, calling get_clf() to train n\n",
    "    different classifiers. Use sklearn's KFold class: http://goo.gl/wmyFhi\n",
    "    Be sure not to shuffle the data, otherwise your output will differ.\n",
    "    Params:\n",
    "        X.........a csr_matrix of feature vectors\n",
    "        y.........the true labels of each document\n",
    "        n_folds...the number of folds of cross-validation to do\n",
    "        verbose...If true, report the testing accuracy for each fold.\n",
    "    Return:\n",
    "        the average testing accuracy across all folds.\n",
    "    \"\"\"\n",
    "    ###TODO\n",
    "    ###\n",
    "    cv = KFold(len(y), n_folds = n_folds)\n",
    "    accuracies = []\n",
    "    for train_idx, test_idx in cv:\n",
    "        clf = get_clf()\n",
    "        clf.fit(X[train_idx], y[train_idx])\n",
    "        predicted = clf.predict(X[test_idx])\n",
    "        acc = accuracy_score(y[test_idx], predicted)\n",
    "        accuracies.append(acc)\n",
    "    if (verbose == True):\n",
    "        for i in range(n_folds):\n",
    "            print('fold %d accuracy=%s' % (i, accuracies[i]))\n",
    "    avg = np.mean(accuracies)\n",
    "    return avg\n",
    "print('average cross validation accuracy=%.4f' %\n",
    "      do_cross_validation(X, y, verbose=True))"
   ]
  },
  {
   "cell_type": "code",
   "execution_count": 14,
   "metadata": {
    "collapsed": false
   },
   "outputs": [],
   "source": [
    "def do_expt(filenames, y, tokenizer_fn=tokenize_with_not,\n",
    "            min_df=1, max_df=1., binary=True,\n",
    "            ngram_range=(1,1), n_folds=5):\n",
    "    \"\"\"\n",
    "    Run one experiment, which consists of vectorizing each file,\n",
    "    performing cross-validation, and returning the average accuracy.\n",
    "    Params:\n",
    "        filenames.......list of review file names\n",
    "        y...............the true sentiment labels for each file\n",
    "        tokenizer_fn....the function used to tokenize each document\n",
    "        min_df..........remove terms from the vocabulary that don't appear\n",
    "                        in at least this many documents\n",
    "        max_df..........remove terms from the vocabulary that appear in more\n",
    "                        than this fraction of documents\n",
    "        binary..........If true, each documents is represented by a binary\n",
    "                        vector, where 1 means a term occurs at least once in \n",
    "                        the document. If false, the term frequency is used instead.\n",
    "        ngram_range.....A tuple (n,m) means to use phrases of length n to m inclusive.\n",
    "                        E.g., (1,2) means consider unigrams and bigrams.\n",
    "        n_folds.........The number of cross-validation folds to use.\n",
    "    Returns:\n",
    "        the average cross validation testing accuracy.\n",
    "    \"\"\"\n",
    "    matr, vec = do_vectorize(filenames, tokenizer_fn=tokenizer_fn, min_df=min_df,\n",
    "                 max_df=max_df, binary=binary, ngram_range=ngram_range)\n",
    "    return do_cross_validation(matr, y, n_folds)"
   ]
  },
  {
   "cell_type": "code",
   "execution_count": 15,
   "metadata": {
    "collapsed": false
   },
   "outputs": [
    {
     "name": "stdout",
     "output_type": "stream",
     "text": [
      "accuracy using default settings: 0.8335\n"
     ]
    }
   ],
   "source": [
    "print('accuracy using default settings: %.4g' % do_expt(filenames, y))"
   ]
  },
  {
   "cell_type": "code",
   "execution_count": 16,
   "metadata": {
    "collapsed": false
   },
   "outputs": [
    {
     "data": {
      "image/png": "[encoded data removed]",
      "text/plain": [
       "<matplotlib.figure.Figure at 0x109c77310>"
      ]
     },
     "metadata": {},
     "output_type": "display_data"
    },
    {
     "data": {
      "text/plain": [
       "[0.82399999999999995,\n",
       " 0.83350000000000013,\n",
       " 0.84250000000000003,\n",
       " 0.84049999999999991]"
      ]
     },
     "execution_count": 16,
     "metadata": {},
     "output_type": "execute_result"
    }
   ],
   "source": [
    "import matplotlib.pyplot as plt\n",
    "%matplotlib inline\n",
    "\"\"\"Try out a few different settings to see how they affect cross-validation accuracy.\"\"\"\n",
    "def compare_n_folds(filenames, y):\n",
    "    \"\"\"\n",
    "    Vary the setting of n_folds parameter in the do_expt \n",
    "    function to be in [2,5,10,20]. For each setting, call do_expt and \n",
    "    store the resulting accuracy. Plot the accuracies for each setting.\n",
    "    Also return the list of accuracies. Use the default value for all\n",
    "    other arguments to the do_expt function.\n",
    "    Params:\n",
    "        filenames....list of training file names\n",
    "        y............true labels for each file (a numpy array)\n",
    "    Returns:\n",
    "        a list of average testing accuracies, one per fold.\n",
    "    \"\"\"\n",
    "    L = [2, 5, 10, 20]\n",
    "    accuracies = []\n",
    "    for i in L:\n",
    "        acc = do_expt(filenames, y, n_folds = i)\n",
    "        accuracies.append(acc)\n",
    "    plt.figure()\n",
    "    plt.plot(L, accuracies, 'bo-')\n",
    "    plt.xlabel('n_folds')\n",
    "    plt.ylabel('accuracy')\n",
    "    plt.show()\n",
    "    return accuracies\n",
    "compare_n_folds(filenames, y)"
   ]
  },
  {
   "cell_type": "code",
   "execution_count": 17,
   "metadata": {
    "collapsed": true
   },
   "outputs": [],
   "source": [
    "# the accuracy increases as the number of folds increases before 10 and decreases after that."
   ]
  },
  {
   "cell_type": "code",
   "execution_count": 18,
   "metadata": {
    "collapsed": false
   },
   "outputs": [
    {
     "data": {
      "text/plain": [
       "[0.83350000000000013, 0.82400000000000007]"
      ]
     },
     "execution_count": 18,
     "metadata": {},
     "output_type": "execute_result"
    }
   ],
   "source": [
    "def compare_binary(filenames, y):\n",
    "    \"\"\"\n",
    "    Call do_expt twice, once with binary=True, and once with binary=False.\n",
    "    Return the average accuracies for each. Use the default parameters for the\n",
    "    remaining arguments in do_expt.\n",
    "    Params:\n",
    "        filenames....list of training file names\n",
    "        y............true labels for each file (a numpy array)\n",
    "    Returns:\n",
    "        a list of average testing accuracies. The first entry\n",
    "        is for binary=True, the second is for binary=False.\n",
    "    \"\"\"\n",
    "    accuracies = []\n",
    "    accuracies.append(do_expt(filenames, y, binary = True))\n",
    "    accuracies.append(do_expt(filenames, y, binary = False))\n",
    "    return accuracies\n",
    "compare_binary(filenames, y)"
   ]
  },
  {
   "cell_type": "code",
   "execution_count": 19,
   "metadata": {
    "collapsed": true
   },
   "outputs": [],
   "source": [
    "# the accuracy of binary has higher accuracy. And binary feature vectors does better than using term frequency"
   ]
  },
  {
   "cell_type": "code",
   "execution_count": 20,
   "metadata": {
    "collapsed": false
   },
   "outputs": [
    {
     "data": {
      "image/png": "[encoded data removed]",
      "text/plain": [
       "<matplotlib.figure.Figure at 0x1058358d0>"
      ]
     },
     "metadata": {},
     "output_type": "display_data"
    },
    {
     "data": {
      "text/plain": [
       "[0.83350000000000013,\n",
       " 0.83350000000000013,\n",
       " 0.83350000000000013,\n",
       " 0.83499999999999996,\n",
       " 0.83149999999999991,\n",
       " 0.83299999999999996,\n",
       " 0.83350000000000013,\n",
       " 0.83200000000000007,\n",
       " 0.82900000000000007,\n",
       " 0.83149999999999991]"
      ]
     },
     "execution_count": 20,
     "metadata": {},
     "output_type": "execute_result"
    }
   ],
   "source": [
    "def min_df_expt(filenames, y):\n",
    "    \"\"\"\n",
    "    Vary the setting of min_df parameter in the do_expt \n",
    "    function to be ints in the range (1,10) (inclusive). For each setting,\n",
    "    call do_expt and store the resulting accuracy. Plot the accuracies for each setting.\n",
    "    Also return the list of accuracies. Use the default value for all\n",
    "    other arguments to the do_expt function.\n",
    "    Params:\n",
    "        filenames....list of training file names\n",
    "        y............true labels for each file (a numpy array)\n",
    "    Returns:\n",
    "        a list of average testing accuracies, one per min_df value.\n",
    "    \"\"\"\n",
    "    ###TODO\n",
    "    ###\n",
    "    accuracies = []\n",
    "    for i in range(1,11):\n",
    "        accuracies.append(do_expt(filenames, y, min_df=i, tokenizer_fn=tokenize_with_not))\n",
    "    plt.figure()\n",
    "    plt.plot(range(1,11), accuracies, 'bo-')\n",
    "    plt.xlabel('min_df')\n",
    "    plt.ylabel('accuracy')\n",
    "    plt.show()\n",
    "    return accuracies\n",
    "min_df_expt(filenames, y)"
   ]
  },
  {
   "cell_type": "code",
   "execution_count": 21,
   "metadata": {
    "collapsed": true
   },
   "outputs": [],
   "source": [
    "# The best accuracy occurs when min_df=4. "
   ]
  },
  {
   "cell_type": "code",
   "execution_count": 22,
   "metadata": {
    "collapsed": false
   },
   "outputs": [
    {
     "data": {
      "image/png": "[encoded data removed]",
      "text/plain": [
       "<matplotlib.figure.Figure at 0x109764b90>"
      ]
     },
     "metadata": {},
     "output_type": "display_data"
    },
    {
     "data": {
      "text/plain": [
       "[0.81849999999999989,\n",
       " 0.81899999999999995,\n",
       " 0.82599999999999996,\n",
       " 0.82750000000000001,\n",
       " 0.83700000000000008,\n",
       " 0.83399999999999996,\n",
       " 0.83050000000000002,\n",
       " 0.83499999999999996,\n",
       " 0.83350000000000013,\n",
       " 0.83499999999999996]"
      ]
     },
     "execution_count": 22,
     "metadata": {},
     "output_type": "execute_result"
    }
   ],
   "source": [
    "def max_df_expt(filenames, y):\n",
    "    \"\"\"\n",
    "    Vary the setting of max_df parameter in the do_expt \n",
    "    function to be one of [.1, .2, .3, .4, .5, .6, .7, .8, .9, 1.].\n",
    "    For each setting, call do_expt and store the resulting accuracy.\n",
    "    Plot the accuracies for each setting. Also return the list of accuracies.\n",
    "    Use the default value for all other arguments to the do_expt function,\n",
    "    except that the min_df=4.\n",
    "    Params:\n",
    "        filenames....list of training file names\n",
    "        y............true labels for each file (a numpy array)\n",
    "    Returns:\n",
    "        a list of average testing accuracies, one per max_df value.\n",
    "    \"\"\"\n",
    "    ###TODO\n",
    "    ###\n",
    "    L = [.1, .2, .3, .4, .5, .6, .7, .8, .9, 1.]\n",
    "    accuracies = []\n",
    "    for i in L:\n",
    "        accuracies.append(do_expt(filenames, y, min_df=4, max_df=i, tokenizer_fn=tokenize_with_not))\n",
    "    plt.figure()\n",
    "    plt.plot(L, accuracies, 'bo-')\n",
    "    plt.xlabel('max_df')\n",
    "    plt.ylabel('accuracy')\n",
    "    plt.show()\n",
    "    return accuracies\n",
    "max_df_expt(filenames, y)"
   ]
  },
  {
   "cell_type": "code",
   "execution_count": 23,
   "metadata": {
    "collapsed": true
   },
   "outputs": [],
   "source": [
    "# So, based on the above experiments, we set:\n",
    "# binary=True\n",
    "# min_df=4\n",
    "# max_df=.5\n",
    "# This results in 5-fold cross-validation accuracy of 83.7%."
   ]
  },
  {
   "cell_type": "code",
   "execution_count": 24,
   "metadata": {
    "collapsed": true
   },
   "outputs": [],
   "source": [
    "# Next we'll look at the coefficients learned by LogisticRegression \n",
    "# to determine how it is making its classification decisions."
   ]
  },
  {
   "cell_type": "code",
   "execution_count": 25,
   "metadata": {
    "collapsed": false
   },
   "outputs": [
    {
     "data": {
      "text/plain": [
       "LogisticRegression(C=1.0, class_weight=None, dual=False, fit_intercept=True,\n",
       "          intercept_scaling=1, max_iter=100, multi_class='ovr',\n",
       "          penalty='l2', random_state=42, solver='liblinear', tol=0.0001,\n",
       "          verbose=0)"
      ]
     },
     "execution_count": 25,
     "metadata": {},
     "output_type": "execute_result"
    }
   ],
   "source": [
    "# First, we'll train our final classifier using our best settings.\n",
    "X, vec = do_vectorize(filenames, tokenizer_fn=tokenize_with_not,\n",
    "                      binary=True, min_df=4, max_df=.5)\n",
    "clf = get_clf()\n",
    "clf.fit(X, y)"
   ]
  },
  {
   "cell_type": "code",
   "execution_count": 26,
   "metadata": {
    "collapsed": true
   },
   "outputs": [],
   "source": [
    "# The LogisticRegression variable (clf) has an attribute .coef_, \n",
    "# which are the learned model coefficients. \n",
    "# This is a numpy array with a real value for each term in the vocabulary. \n",
    "# Positive values indicate a correlation with the positive class, \n",
    "# negative values indicate a correlation with the negative class."
   ]
  },
  {
   "cell_type": "code",
   "execution_count": 27,
   "metadata": {
    "collapsed": false
   },
   "outputs": [
    {
     "name": "stdout",
     "output_type": "stream",
     "text": [
      "<type 'numpy.ndarray'>\n",
      "(1, 4305)\n"
     ]
    }
   ],
   "source": [
    "print type(clf.coef_)\n",
    "print clf.coef_.shape"
   ]
  },
  {
   "cell_type": "code",
   "execution_count": 28,
   "metadata": {
    "collapsed": false
   },
   "outputs": [
    {
     "name": "stdout",
     "output_type": "stream",
     "text": [
      "[ 0.99050439 -0.616187    0.20980402  0.09418665  0.13396639  0.21229277\n",
      " -0.11513765  0.49518438  0.08935452  0.44053089]\n",
      "[u'!', u'\"', u'#', u'$', u'%', u'&', u'(', u')', u'*', u'+']\n"
     ]
    }
   ],
   "source": [
    "# Here are the first 10 coefficients.\n",
    "print(clf.coef_[0][:10])\n",
    "# The features corresponding to them can be found using the vectorizer's get_feature_names method.\n",
    "print(vec.get_feature_names()[:10])"
   ]
  },
  {
   "cell_type": "code",
   "execution_count": 29,
   "metadata": {
    "collapsed": false
   },
   "outputs": [
    {
     "name": "stdout",
     "output_type": "stream",
     "text": [
      "top positive coefs: [(u'great', 1.4107145140809538), (u'delicious', 1.3132225228827401), (u'amazing', 1.2191324889159598), (u'excellent', 1.1955727549662649), (u'best', 1.1290703461982552), (u'clean', 1.0901066699611568), (u'perfect', 1.0669638361318279), (u'awesome', 1.063565124567138), (u'worth', 1.0527392759850707), (u'good', 1.0512215948987491)]\n",
      "top negative coefs: [(u'worst', -1.5229425197573578), (u'dry', -1.3469728589615695), (u'mediocre', -1.2603609003812708), (u'terrible', -1.2453145981956382), (u'greasy', -1.1875412243352557), (u'overpriced', -1.1333359784292718), (u'disappointed', -1.0866906489707888), (u'ok', -0.99756189658134542), (u'awful', -0.99030672731654568), (u'not', -0.98224641650995304)]\n"
     ]
    }
   ],
   "source": [
    "def get_top_coefficients(clf, vec, n=10):\n",
    "    \"\"\" Get the top n coefficients for each class (positive/negative).\n",
    "    Params:\n",
    "        clf...a LogisticRegression object that has already been fit to data.\n",
    "        vec...a CountVectorizer\n",
    "        n.....the number of features to print per class.\n",
    "    Returns:\n",
    "        Two lists of tuples. The first list containts the top terms for the positive\n",
    "        class. Each entry is a tuple of (string, float) pairs, where\n",
    "        string is the feature name and float is the coefficient.\n",
    "        The second list is the same but for the negative class.\n",
    "        In each list, entries should be sorted in descending order of \n",
    "        absolute value.\"\"\"\n",
    "    pos_coef = []\n",
    "    neg_coef = []\n",
    "    coef = clf.coef_[0]\n",
    "    sort = np.argsort(coef)\n",
    "    posi = sort[::-1][:n]\n",
    "    negi = sort[:n]\n",
    "    terms = vec.get_feature_names()\n",
    "    for i in posi:\n",
    "        pos_coef.append((terms[i], coef[i]))\n",
    "    for i in negi:\n",
    "        neg_coef.append((terms[i], coef[i]))\n",
    "    return pos_coef, neg_coef\n",
    "        \n",
    "pos_coef, neg_coef = get_top_coefficients(clf, vec, n=10)\n",
    "print('top positive coefs: %s' % str(pos_coef))\n",
    "print('top negative coefs: %s' % str(neg_coef))"
   ]
  },
  {
   "cell_type": "code",
   "execution_count": 30,
   "metadata": {
    "collapsed": false
   },
   "outputs": [],
   "source": [
    "# Build test data files \n",
    "import os.path\n",
    "# don't run it , the path already exist after we build this\n",
    "os.makedirs('test/pos')\n",
    "os.makedirs('test/neg')"
   ]
  },
  {
   "cell_type": "code",
   "execution_count": 31,
   "metadata": {
    "collapsed": false
   },
   "outputs": [
    {
     "name": "stdout",
     "output_type": "stream",
     "text": [
      "read 1000 positive reviews\n",
      "read 1000 negative reviews\n"
     ]
    }
   ],
   "source": [
    "import json\n",
    "# retrieve the next positive reviews and negative 1000reviews from the Yelp dataset\n",
    "# to build the training set\n",
    "i = 0\n",
    "j = 0\n",
    "numi = 0\n",
    "numj = 0\n",
    "with open(\"yelp_academic_dataset.json\", 'r') as f:\n",
    "    for line in f.readlines():\n",
    "        business_json = json.loads(line)\n",
    "        if \"review_id\" in business_json:\n",
    "            if business_json[\"stars\"] > 3.5 and i < 2000:\n",
    "                if i >= 1000:\n",
    "                    write_to_file('pos', str(i), 'test/pos', business_json[\"text\"])\n",
    "                    numi += 1\n",
    "                i += 1\n",
    "            elif business_json[\"stars\"] < 2.5 and j < 2000:\n",
    "                if j >= 1000:\n",
    "                    write_to_file('neg', str(j), 'test/neg', business_json[\"text\"])\n",
    "                    numj += 1\n",
    "                j += 1\n",
    "        if i == 2000 and j == 2000:\n",
    "            break\n",
    "print(\"read %i positive reviews\\nread %i negative reviews\" % (numi, numj))"
   ]
  },
  {
   "cell_type": "code",
   "execution_count": 32,
   "metadata": {
    "collapsed": false
   },
   "outputs": [
    {
     "name": "stdout",
     "output_type": "stream",
     "text": [
      "X_test represents 2000 documents with 4305 features\n",
      "y_test has 1000 positive and 1000 negative labels\n",
      "first testing file is test/pos/pos1000.txt\n",
      "last testing file is test/neg/neg1999.txt\n",
      "testing accuracy=0.859\n"
     ]
    }
   ],
   "source": [
    "# Do not modify.\n",
    "test_path = 'test'\n",
    "pos_test_files = get_files(test_path + os.sep + 'pos')\n",
    "neg_test_files = get_files(test_path + os.sep + 'neg')\n",
    "all_test_files = pos_test_files + neg_test_files\n",
    "# Note that we call .transform, not .fit_transform, since we \n",
    "# don't want to learn a new vocabulary.\n",
    "X_test = vec.transform(all_test_files)\n",
    "y_test = np.array([1] * len(pos_test_files) + [0] * len(neg_test_files))\n",
    "print('X_test represents %d documents with %d features' % (X_test.shape[0], X_test.shape[1]))\n",
    "print('y_test has %d positive and %d negative labels' % (len(np.where(y_test==1)[0]),\n",
    "                                                          len(np.where(y_test==0)[0])))\n",
    "print('first testing file is %s' % all_test_files[0])\n",
    "print('last testing file is %s' % all_test_files[-1])\n",
    "print('testing accuracy=%.4g' % accuracy_score(y_test, clf.predict(X_test)))"
   ]
  },
  {
   "cell_type": "code",
   "execution_count": 33,
   "metadata": {
    "collapsed": true
   },
   "outputs": [],
   "source": [
    "# So, our testing accuracy is 85.9%, which is pretty close to our estimated accuracy of 83.7%."
   ]
  },
  {
   "cell_type": "code",
   "execution_count": 34,
   "metadata": {
    "collapsed": true
   },
   "outputs": [],
   "source": [
    "from collections import Counter\n",
    "import ConfigParser\n",
    "import matplotlib.pyplot as plt\n",
    "import networkx as nx\n",
    "import sys\n",
    "import time\n",
    "from TwitterAPI import TwitterAPI\n",
    "\n",
    "%matplotlib inline\n",
    "\n",
    "def get_twitter(config_file):\n",
    "    \"\"\" Read the config_file and construct an instance of TwitterAPI.\n",
    "    Args:\n",
    "      config_file ... A config file in ConfigParser format with Twitter credentials\n",
    "    Returns:\n",
    "      An instance of TwitterAPI.\n",
    "    \"\"\"\n",
    "    config = ConfigParser.ConfigParser()\n",
    "    config.read(config_file)\n",
    "    twitter = TwitterAPI(\n",
    "                   config.get('twitter', 'consumer_key'),\n",
    "                   config.get('twitter', 'consumer_secret'),\n",
    "                   config.get('twitter', 'access_token'),\n",
    "                   config.get('twitter', 'access_token_secret'))\n",
    "    return twitter\n",
    "\n",
    "twitter = get_twitter('twitter.cfg')\n"
   ]
  },
  {
   "cell_type": "code",
   "execution_count": 35,
   "metadata": {
    "collapsed": true
   },
   "outputs": [],
   "source": [
    "def robust_request(twitter, resource, params, max_tries=5):\n",
    "    \"\"\" If a Twitter request fails, sleep for 15 minutes.\n",
    "    Do this at most max_tries times before quitting.\n",
    "    Args:\n",
    "      twitter .... A TwitterAPI object.\n",
    "      resource ... A resource string to request.\n",
    "      params ..... A parameter dictionary for the request.\n",
    "      max_tries .. The maximum number of tries to attempt.\n",
    "    Returns:\n",
    "      A TwitterResponse object, or None if failed.\n",
    "    \"\"\"\n",
    "    for i in range(max_tries):\n",
    "        request = twitter.request(resource, params)\n",
    "        if request.status_code == 200:\n",
    "            return request\n",
    "        else:\n",
    "            print >> sys.stderr, 'Got error:', request.text, '\\nsleeping for 15 minutes.'\n",
    "            sys.stderr.flush()\n",
    "            time.sleep(61 * 15)"
   ]
  },
  {
   "cell_type": "code",
   "execution_count": 36,
   "metadata": {
    "collapsed": true
   },
   "outputs": [],
   "source": [
    "def get_friends(screen_name):\n",
    "    \"\"\" Return a list of the users that this person follows on Twitter, up to 200.\n",
    "    See https://dev.twitter.com/rest/reference/get/friends/list \n",
    "    Note, because of rate limits, it's best to test this method for one candidate before trying\n",
    "    on all candidates.\n",
    "    \n",
    "    Args:\n",
    "        screen_name: a string of a Twitter screen name\n",
    "    Returns:\n",
    "        A list of strings, one per friend.\n",
    "    Note: Many users follow more than 200 accounts; we will limit ourselves to\n",
    "    the first 200 accounts returned.\n",
    "    \"\"\"\n",
    "    request = twitter.request('friends/list', {'screen_name': screen_name, 'count':200})\n",
    "    r=[]\n",
    "    for a in request:\n",
    "        r.append(a['screen_name'])\n",
    "    return r\n"
   ]
  },
  {
   "cell_type": "code",
   "execution_count": 37,
   "metadata": {
    "collapsed": false
   },
   "outputs": [],
   "source": [
    "def get_all_friends(screen_names):\n",
    "    \"\"\" Get the friends for all the users in usernames.\n",
    "    Args:\n",
    "        screen_names: a list of Twitter screen names\n",
    "    Returns:\n",
    "        a dict mapping each candidate's username (string) to a list of his/her friends (strings)\n",
    "    \"\"\"\n",
    "    return {n: get_friends(n) for n in screen_names}\n"
   ]
  },
  {
   "cell_type": "code",
   "execution_count": 38,
   "metadata": {
    "collapsed": false
   },
   "outputs": [],
   "source": [
    "# don't run this just make dir for tweets\n",
    "import os.path\n",
    "restaurant=file2string('restaurant.txt')\n",
    "key=restaurant.split(' ')\n",
    "for item in key:\n",
    "    os.makedirs('data/tweets/%s'%item)"
   ]
  },
  {
   "cell_type": "code",
   "execution_count": 39,
   "metadata": {
    "collapsed": false
   },
   "outputs": [],
   "source": [
    "def get_restaurant_tweet(key):\n",
    "    r = twitter.request('search/tweets', {'q':key,'count':10000})\n",
    "    tweets=[]\n",
    "    i=0\n",
    "    for item in r.get_iterator():\n",
    "        write_to_file('', item['user']['screen_name'], 'data/tweets/'+key, item[\"text\"])\n",
    "        i=i+1\n",
    "restaurant=file2string('restaurant.txt')\n",
    "key=restaurant.split(' ')\n",
    "for item in key:\n",
    "    get_restaurant_tweet(item)\n"
   ]
  },
  {
   "cell_type": "code",
   "execution_count": 41,
   "metadata": {
    "collapsed": false
   },
   "outputs": [
    {
     "name": "stdout",
     "output_type": "stream",
     "text": [
      "score of restaurant PandaExpress = 42\n",
      "score of restaurant ChipotleTweets = 43\n",
      "score of restaurant Cheesecake = 86\n",
      "We recommand Cheesecake to our users\n",
      "__hnby has positive sentiment for Cheesecake,sentiment value:[1]\n",
      "__hnby likes Cheesecake!\n",
      "Hi krisyaasyeeken! Your friend __hnby likes Cheesecake, get yourself some delicious food.\n",
      "Hi naimalfaruk! Your friend __hnby likes Cheesecake, get yourself some delicious food.\n",
      "Hi OutfitsHeaven! Your friend __hnby likes Cheesecake, get yourself some delicious food.\n",
      "Hi FatyaEdDeen! Your friend __hnby likes Cheesecake, get yourself some delicious food.\n",
      "Hi LvxiB! Your friend __hnby likes Cheesecake, get yourself some delicious food.\n",
      "Hi F00DP0RN! Your friend __hnby likes Cheesecake, get yourself some delicious food.\n",
      "Hi FoodPornMenu! Your friend __hnby likes Cheesecake, get yourself some delicious food.\n",
      "Hi FoodPorn! Your friend __hnby likes Cheesecake, get yourself some delicious food.\n",
      "Hi RealFoodPorn_! Your friend __hnby likes Cheesecake, get yourself some delicious food.\n",
      "Hi TheeFoodPorn! Your friend __hnby likes Cheesecake, get yourself some delicious food.\n",
      "Hi FoodPornsx! Your friend __hnby likes Cheesecake, get yourself some delicious food.\n",
      "Hi ItsFoodPorn! Your friend __hnby likes Cheesecake, get yourself some delicious food.\n",
      "Hi DreamHouseX! Your friend __hnby likes Cheesecake, get yourself some delicious food.\n",
      "Hi naurah_lalaa! Your friend __hnby likes Cheesecake, get yourself some delicious food.\n",
      "Hi AzzazzillHu! Your friend __hnby likes Cheesecake, get yourself some delicious food.\n",
      "Hi ItsFoodsPorn! Your friend __hnby likes Cheesecake, get yourself some delicious food.\n",
      "Hi MhdAzhan! Your friend __hnby likes Cheesecake, get yourself some delicious food.\n",
      "Hi jamesxreid! Your friend __hnby likes Cheesecake, get yourself some delicious food.\n",
      "Hi Latiptop_! Your friend __hnby likes Cheesecake, get yourself some delicious food.\n",
      "Hi FifiNurfarisha! Your friend __hnby likes Cheesecake, get yourself some delicious food.\n",
      "Hi ooohhamin! Your friend __hnby likes Cheesecake, get yourself some delicious food.\n",
      "Hi IlhamSkrillex_! Your friend __hnby likes Cheesecake, get yourself some delicious food.\n",
      "Hi AtiqaRahim_! Your friend __hnby likes Cheesecake, get yourself some delicious food.\n",
      "Hi noreeqmal! Your friend __hnby likes Cheesecake, get yourself some delicious food.\n",
      "Hi MrdhyyhZhri! Your friend __hnby likes Cheesecake, get yourself some delicious food.\n",
      "Hi izzatyadnan_! Your friend __hnby likes Cheesecake, get yourself some delicious food.\n",
      "Hi nuridelin! Your friend __hnby likes Cheesecake, get yourself some delicious food.\n",
      "Hi _dianawahid! Your friend __hnby likes Cheesecake, get yourself some delicious food.\n",
      "Hi sportgirlbella! Your friend __hnby likes Cheesecake, get yourself some delicious food.\n",
      "Hi HeartBio! Your friend __hnby likes Cheesecake, get yourself some delicious food.\n",
      "Hi Kecillicious! Your friend __hnby likes Cheesecake, get yourself some delicious food.\n",
      "Hi _abdrhm! Your friend __hnby likes Cheesecake, get yourself some delicious food.\n",
      "Hi flwrdiy! Your friend __hnby likes Cheesecake, get yourself some delicious food.\n",
      "Hi warisn9! Your friend __hnby likes Cheesecake, get yourself some delicious food.\n",
      "Hi AyeenDenn! Your friend __hnby likes Cheesecake, get yourself some delicious food.\n",
      "Hi KimiRosli! Your friend __hnby likes Cheesecake, get yourself some delicious food.\n",
      "Hi KhairaKhrzzmn! Your friend __hnby likes Cheesecake, get yourself some delicious food.\n",
      "Hi ShoeiPorn! Your friend __hnby likes Cheesecake, get yourself some delicious food.\n",
      "Hi therealzulk! Your friend __hnby likes Cheesecake, get yourself some delicious food.\n",
      "Hi HlMQuotes! Your friend __hnby likes Cheesecake, get yourself some delicious food.\n",
      "Hi faktaanakkedua_! Your friend __hnby likes Cheesecake, get yourself some delicious food.\n",
      "Hi theshwlf! Your friend __hnby likes Cheesecake, get yourself some delicious food.\n",
      "Hi fateynfiefah! Your friend __hnby likes Cheesecake, get yourself some delicious food.\n",
      "Hi KissAppSL! Your friend __hnby likes Cheesecake, get yourself some delicious food.\n",
      "Hi apponeplus! Your friend __hnby likes Cheesecake, get yourself some delicious food.\n",
      "Hi hzwnhzq! Your friend __hnby likes Cheesecake, get yourself some delicious food.\n",
      "Hi tweetsemuaa! Your friend __hnby likes Cheesecake, get yourself some delicious food.\n",
      "Hi nurara_! Your friend __hnby likes Cheesecake, get yourself some delicious food.\n",
      "Hi artfulsadness! Your friend __hnby likes Cheesecake, get yourself some delicious food.\n",
      "Hi imdanielpadilla! Your friend __hnby likes Cheesecake, get yourself some delicious food.\n",
      "Hi bernardokath! Your friend __hnby likes Cheesecake, get yourself some delicious food.\n",
      "Hi bookmsgs! Your friend __hnby likes Cheesecake, get yourself some delicious food.\n",
      "Hi tylermckeever_! Your friend __hnby likes Cheesecake, get yourself some delicious food.\n",
      "Hi girlfeeIing! Your friend __hnby likes Cheesecake, get yourself some delicious food.\n",
      "Hi svldt! Your friend __hnby likes Cheesecake, get yourself some delicious food.\n",
      "Hi anxietyisyou! Your friend __hnby likes Cheesecake, get yourself some delicious food.\n",
      "Hi VansPorns! Your friend __hnby likes Cheesecake, get yourself some delicious food.\n",
      "Hi kv_life! Your friend __hnby likes Cheesecake, get yourself some delicious food.\n",
      "Hi BestTextMsgs! Your friend __hnby likes Cheesecake, get yourself some delicious food.\n",
      "Hi dailytxtmsg! Your friend __hnby likes Cheesecake, get yourself some delicious food.\n",
      "Hi AccurateText! Your friend __hnby likes Cheesecake, get yourself some delicious food.\n",
      "Hi diadelosquote_! Your friend __hnby likes Cheesecake, get yourself some delicious food.\n",
      "Hi NDHofficial! Your friend __hnby likes Cheesecake, get yourself some delicious food.\n",
      "Hi itssixwordstory! Your friend __hnby likes Cheesecake, get yourself some delicious food.\n",
      "Hi autocorrects! Your friend __hnby likes Cheesecake, get yourself some delicious food.\n",
      "Hi wordsporns! Your friend __hnby likes Cheesecake, get yourself some delicious food.\n",
      "Hi WisdomQuotees! Your friend __hnby likes Cheesecake, get yourself some delicious food.\n",
      "Hi QuotesDetail! Your friend __hnby likes Cheesecake, get yourself some delicious food.\n",
      "Hi LetsWearThat! Your friend __hnby likes Cheesecake, get yourself some delicious food.\n",
      "Hi LovePhrase! Your friend __hnby likes Cheesecake, get yourself some delicious food.\n",
      "Hi awakcomelsaya! Your friend __hnby likes Cheesecake, get yourself some delicious food.\n",
      "Hi SweetLoveMsg! Your friend __hnby likes Cheesecake, get yourself some delicious food.\n",
      "Hi _merecik! Your friend __hnby likes Cheesecake, get yourself some delicious food.\n",
      "Hi soulfuldares! Your friend __hnby likes Cheesecake, get yourself some delicious food.\n",
      "Hi instagram! Your friend __hnby likes Cheesecake, get yourself some delicious food.\n",
      "Hi VictoriasSecret! Your friend __hnby likes Cheesecake, get yourself some delicious food.\n",
      "Hi httpsepul! Your friend __hnby likes Cheesecake, get yourself some delicious food.\n",
      "Hi MujahidahSado! Your friend __hnby likes Cheesecake, get yourself some delicious food.\n",
      "Hi Syzryn! Your friend __hnby likes Cheesecake, get yourself some delicious food.\n",
      "Hi MegatAD! Your friend __hnby likes Cheesecake, get yourself some delicious food.\n",
      "Hi Sfiameyl_! Your friend __hnby likes Cheesecake, get yourself some delicious food.\n",
      "Hi YazidFazid! Your friend __hnby likes Cheesecake, get yourself some delicious food.\n",
      "Hi HazdiI! Your friend __hnby likes Cheesecake, get yourself some delicious food.\n",
      "Hi _arifofficial! Your friend __hnby likes Cheesecake, get yourself some delicious food.\n",
      "Hi Amiewa_husna! Your friend __hnby likes Cheesecake, get yourself some delicious food.\n",
      "Hi officiallfranzs! Your friend __hnby likes Cheesecake, get yourself some delicious food.\n",
      "Hi iSyafiqKyle! Your friend __hnby likes Cheesecake, get yourself some delicious food.\n",
      "Hi cklar_amal! Your friend __hnby likes Cheesecake, get yourself some delicious food.\n",
      "Hi AzimmAmiziee! Your friend __hnby likes Cheesecake, get yourself some delicious food.\n",
      "Hi FlyMasterBlue! Your friend __hnby likes Cheesecake, get yourself some delicious food.\n",
      "Hi qiszarry! Your friend __hnby likes Cheesecake, get yourself some delicious food.\n",
      "Hi MieyaRaudhah! Your friend __hnby likes Cheesecake, get yourself some delicious food.\n",
      "Hi IIntanSyahirahh! Your friend __hnby likes Cheesecake, get yourself some delicious food.\n",
      "Hi nashaannisa98! Your friend __hnby likes Cheesecake, get yourself some delicious food.\n",
      "Hi SFNorr_Khadijah! Your friend __hnby likes Cheesecake, get yourself some delicious food.\n",
      "Hi hasnidahussin! Your friend __hnby likes Cheesecake, get yourself some delicious food.\n",
      "Hi aqilah_n! Your friend __hnby likes Cheesecake, get yourself some delicious food.\n",
      "Hi arninazira25! Your friend __hnby likes Cheesecake, get yourself some delicious food.\n",
      "Hi NashrulIkram_! Your friend __hnby likes Cheesecake, get yourself some delicious food.\n",
      "Hi MSabriena! Your friend __hnby likes Cheesecake, get yourself some delicious food.\n",
      "Hi doditointoin! Your friend __hnby likes Cheesecake, get yourself some delicious food.\n",
      "Hi aidansyrn! Your friend __hnby likes Cheesecake, get yourself some delicious food.\n",
      "Hi apip_xx! Your friend __hnby likes Cheesecake, get yourself some delicious food.\n",
      "Hi Syami_Sam! Your friend __hnby likes Cheesecake, get yourself some delicious food.\n",
      "Hi MimiIzzatty_! Your friend __hnby likes Cheesecake, get yourself some delicious food.\n",
      "Hi PaizAngah! Your friend __hnby likes Cheesecake, get yourself some delicious food.\n",
      "Hi peyjalll! Your friend __hnby likes Cheesecake, get yourself some delicious food.\n",
      "Hi WanMuhammadAudi! Your friend __hnby likes Cheesecake, get yourself some delicious food.\n",
      "Hi EymalZolkafli! Your friend __hnby likes Cheesecake, get yourself some delicious food.\n",
      "Hi _AhmadKhalid_! Your friend __hnby likes Cheesecake, get yourself some delicious food.\n",
      "Hi AyimQayyim! Your friend __hnby likes Cheesecake, get yourself some delicious food.\n",
      "Hi WanWanwingg! Your friend __hnby likes Cheesecake, get yourself some delicious food.\n",
      "Hi QQulya! Your friend __hnby likes Cheesecake, get yourself some delicious food.\n",
      "Hi AmirSuhailii! Your friend __hnby likes Cheesecake, get yourself some delicious food.\n",
      "Hi NuraliaIzzati! Your friend __hnby likes Cheesecake, get yourself some delicious food.\n",
      "Hi nurul_shawany97! Your friend __hnby likes Cheesecake, get yourself some delicious food.\n",
      "Hi fatensamsul94! Your friend __hnby likes Cheesecake, get yourself some delicious food.\n",
      "Hi GadisssSepi! Your friend __hnby likes Cheesecake, get yourself some delicious food.\n",
      "Hi aten_iman235! Your friend __hnby likes Cheesecake, get yourself some delicious food.\n",
      "Hi AmirahMia7! Your friend __hnby likes Cheesecake, get yourself some delicious food.\n",
      "Hi nyssazahari! Your friend __hnby likes Cheesecake, get yourself some delicious food.\n",
      "Hi syuhadamomot98! Your friend __hnby likes Cheesecake, get yourself some delicious food.\n",
      "Hi IntanMeoww! Your friend __hnby likes Cheesecake, get yourself some delicious food.\n",
      "Hi AdilaAdzman! Your friend __hnby likes Cheesecake, get yourself some delicious food.\n",
      "Hi AnakCikguAnuar! Your friend __hnby likes Cheesecake, get yourself some delicious food.\n",
      "Hi itsmesumayyah_! Your friend __hnby likes Cheesecake, get yourself some delicious food.\n",
      "Hi muhdxfiq_! Your friend __hnby likes Cheesecake, get yourself some delicious food.\n",
      "Hi khusairiamin! Your friend __hnby likes Cheesecake, get yourself some delicious food.\n",
      "Hi 97_aizat! Your friend __hnby likes Cheesecake, get yourself some delicious food.\n",
      "Hi RadeonMbps! Your friend __hnby likes Cheesecake, get yourself some delicious food.\n",
      "Hi ihvsnx! Your friend __hnby likes Cheesecake, get yourself some delicious food.\n",
      "Hi HatiPerluSado! Your friend __hnby likes Cheesecake, get yourself some delicious food.\n",
      "Hi hvziqm! Your friend __hnby likes Cheesecake, get yourself some delicious food.\n",
      "Hi AmirAidit! Your friend __hnby likes Cheesecake, get yourself some delicious food.\n",
      "Hi ShahLorston! Your friend __hnby likes Cheesecake, get yourself some delicious food.\n",
      "Hi shabarrina! Your friend __hnby likes Cheesecake, get yourself some delicious food.\n",
      "Hi nakirnelly! Your friend __hnby likes Cheesecake, get yourself some delicious food.\n",
      "Hi luqmxndew! Your friend __hnby likes Cheesecake, get yourself some delicious food.\n",
      "Hi IskndrZlqrnain! Your friend __hnby likes Cheesecake, get yourself some delicious food.\n",
      "Hi mohdaqqilikram! Your friend __hnby likes Cheesecake, get yourself some delicious food.\n",
      "Hi faidhi_fahmy! Your friend __hnby likes Cheesecake, get yourself some delicious food.\n",
      "Hi khrnnis_! Your friend __hnby likes Cheesecake, get yourself some delicious food.\n",
      "Hi sitirauhah_! Your friend __hnby likes Cheesecake, get yourself some delicious food.\n",
      "Hi Farah_Nafisah_! Your friend __hnby likes Cheesecake, get yourself some delicious food.\n",
      "Hi Kazen_Sensai13! Your friend __hnby likes Cheesecake, get yourself some delicious food.\n",
      "Hi RohAdekFly! Your friend __hnby likes Cheesecake, get yourself some delicious food.\n",
      "Hi MiraUlala1! Your friend __hnby likes Cheesecake, get yourself some delicious food.\n",
      "Hi ermillaaa_! Your friend __hnby likes Cheesecake, get yourself some delicious food.\n",
      "Hi shahrielsanders! Your friend __hnby likes Cheesecake, get yourself some delicious food.\n",
      "Hi _eijaaa! Your friend __hnby likes Cheesecake, get yourself some delicious food.\n",
      "Hi RahsyaMarley! Your friend __hnby likes Cheesecake, get yourself some delicious food.\n",
      "Hi acai_hudsonIV! Your friend __hnby likes Cheesecake, get yourself some delicious food.\n",
      "Hi _suhailiayub! Your friend __hnby likes Cheesecake, get yourself some delicious food.\n",
      "Hi NazihahI! Your friend __hnby likes Cheesecake, get yourself some delicious food.\n",
      "Hi nurfitrahhalim! Your friend __hnby likes Cheesecake, get yourself some delicious food.\n",
      "Hi Darwisha_Ahmad! Your friend __hnby likes Cheesecake, get yourself some delicious food.\n",
      "Hi my_aniez! Your friend __hnby likes Cheesecake, get yourself some delicious food.\n",
      "Hi _aidaayb! Your friend __hnby likes Cheesecake, get yourself some delicious food.\n",
      "Hi _mighaaa! Your friend __hnby likes Cheesecake, get yourself some delicious food.\n",
      "Hi EhhFarhannn! Your friend __hnby likes Cheesecake, get yourself some delicious food.\n",
      "Hi nrlnjwa_! Your friend __hnby likes Cheesecake, get yourself some delicious food.\n",
      "Hi _nazmimoktar! Your friend __hnby likes Cheesecake, get yourself some delicious food.\n",
      "Hi FyrSukor_! Your friend __hnby likes Cheesecake, get yourself some delicious food.\n",
      "Hi Aniemm_! Your friend __hnby likes Cheesecake, get yourself some delicious food.\n",
      "Hi nurbahirah_k! Your friend __hnby likes Cheesecake, get yourself some delicious food.\n",
      "Hi Muhd_oggy! Your friend __hnby likes Cheesecake, get yourself some delicious food.\n",
      "Hi _junnur! Your friend __hnby likes Cheesecake, get yourself some delicious food.\n",
      "Hi EhhSengettttt! Your friend __hnby likes Cheesecake, get yourself some delicious food.\n",
      "Hi zatyfana98! Your friend __hnby likes Cheesecake, get yourself some delicious food.\n",
      "Hi AjwadAzibNoor! Your friend __hnby likes Cheesecake, get yourself some delicious food.\n",
      "Hi nurulfaika2! Your friend __hnby likes Cheesecake, get yourself some delicious food.\n",
      "Hi hazriqxaxau! Your friend __hnby likes Cheesecake, get yourself some delicious food.\n",
      "Hi nfadhli__! Your friend __hnby likes Cheesecake, get yourself some delicious food.\n",
      "Hi akimx_! Your friend __hnby likes Cheesecake, get yourself some delicious food.\n",
      "Hi aainazem! Your friend __hnby likes Cheesecake, get yourself some delicious food.\n",
      "Hi AfiEika! Your friend __hnby likes Cheesecake, get yourself some delicious food.\n",
      "Hi AmarAiman_! Your friend __hnby likes Cheesecake, get yourself some delicious food.\n",
      "Hi NaimRizuanx! Your friend __hnby likes Cheesecake, get yourself some delicious food.\n",
      "Hi Faiz_Annuar! Your friend __hnby likes Cheesecake, get yourself some delicious food.\n",
      "Hi EmyHeavens! Your friend __hnby likes Cheesecake, get yourself some delicious food.\n",
      "Hi akidzafri! Your friend __hnby likes Cheesecake, get yourself some delicious food.\n",
      "Hi AkuKauRasa! Your friend __hnby likes Cheesecake, get yourself some delicious food.\n",
      "Hi Ehayinn! Your friend __hnby likes Cheesecake, get yourself some delicious food.\n",
      "Hi JohnLaa_! Your friend __hnby likes Cheesecake, get yourself some delicious food.\n",
      "Hi Myrull95! Your friend __hnby likes Cheesecake, get yourself some delicious food.\n",
      "Hi EhhFrinky! Your friend __hnby likes Cheesecake, get yourself some delicious food.\n",
      "Hi Zikri_Rajaii! Your friend __hnby likes Cheesecake, get yourself some delicious food.\n",
      "Hi HanisQistina! Your friend __hnby likes Cheesecake, get yourself some delicious food.\n",
      "Hi ryzzuxnyunus! Your friend __hnby likes Cheesecake, get yourself some delicious food.\n",
      "Hi ShahrulSuhaimi_! Your friend __hnby likes Cheesecake, get yourself some delicious food.\n",
      "Hi IzzaIzzat! Your friend __hnby likes Cheesecake, get yourself some delicious food.\n",
      "Hi ZacAlikasturi! Your friend __hnby likes Cheesecake, get yourself some delicious food.\n",
      "Hi shah_syawal! Your friend __hnby likes Cheesecake, get yourself some delicious food.\n",
      "Hi ikhwannHanif! Your friend __hnby likes Cheesecake, get yourself some delicious food.\n",
      "Hi nasirruddin98! Your friend __hnby likes Cheesecake, get yourself some delicious food.\n",
      "Hi polkaCen! Your friend __hnby likes Cheesecake, get yourself some delicious food.\n",
      "Hi Zariffff_! Your friend __hnby likes Cheesecake, get yourself some delicious food.\n",
      "Hi taktauname! Your friend __hnby likes Cheesecake, get yourself some delicious food.\n",
      "Hi nurfatiha_husna! Your friend __hnby likes Cheesecake, get yourself some delicious food.\n",
      "Hi abie_biey! Your friend __hnby likes Cheesecake, get yourself some delicious food.\n"
     ]
    }
   ],
   "source": [
    "#for those who dont have any friends tweet about any restaurant,we recommand a restaurant based on sentiment collected\n",
    "#from twitter\n",
    "def recommandation(screen_name,key):\n",
    "    names=get_friends(screen_name)\n",
    "#     print names\n",
    "    for name in names:\n",
    "        print('Hi %s! Your friend %s likes %s, get yourself some delicious food.'%(name,screen_name,key))\n",
    "\n",
    "def restaurant_socre(key):\n",
    "    file=get_files('data/tweets/'+key)\n",
    "    X_test = vec.transform(file)\n",
    "    r=clf.predict(X_test)\n",
    "    #print(r)\n",
    "    print('score of restaurant %s = %i' % (key,r.sum()))\n",
    "    return r\n",
    "restaurant=file2string('restaurant.txt')\n",
    "# print(restaurant)\n",
    "key=restaurant.split(' ')\n",
    "# print(key)\n",
    "score=[]\n",
    "j=0\n",
    "f=0\n",
    "for item in key:\n",
    "    score.append(restaurant_socre(item).sum())\n",
    "for i in range(0,len(key)):\n",
    "    if (score[i]>=f):\n",
    "        j=i\n",
    "        f=score[i]\n",
    "print ('We recommand %s to our users'%key[j])\n",
    "Flag=\".txt\"\n",
    "p='data/tweets/%s/'%key[j]\n",
    "# print (p)\n",
    "# print len(p)\n",
    "FileNames=os.listdir(p)\n",
    "for fn in FileNames:\n",
    "    if (Flag in fn):\n",
    "        fullfilename=os.path.join(p,fn)\n",
    "        X = vec.transform([fullfilename])\n",
    "        r=clf.predict(X)\n",
    "        if (r>0):\n",
    "            screen_name=fullfilename[len(p):len(fullfilename)-4]\n",
    "            print('%s has positive sentiment for %s,sentiment value:%s'%(screen_name,key[j],r))\n",
    "            print('%s likes %s!'%(screen_name,key[j]))\n",
    "            recommandation(screen_name,key[j])\n",
    "            break"
   ]
  },
  {
   "cell_type": "code",
   "execution_count": null,
   "metadata": {
    "collapsed": false
   },
   "outputs": [],
   "source": []
  }
 ],
 "metadata": {
  "kernelspec": {
   "display_name": "Python 2",
   "language": "python",
   "name": "python2"
  },
  "language_info": {
   "codemirror_mode": {
    "name": "ipython",
    "version": 2
   },
   "file_extension": ".py",
   "mimetype": "text/x-python",
   "name": "python",
   "nbconvert_exporter": "python",
   "pygments_lexer": "ipython2",
   "version": "2.7.10"
  }
 },
 "nbformat": 4,
 "nbformat_minor": 0
}
